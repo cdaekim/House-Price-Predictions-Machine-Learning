{
 "cells": [
  {
   "cell_type": "code",
   "execution_count": 184,
   "metadata": {},
   "outputs": [],
   "source": [
    "import pandas as pd\n",
    "import numpy as np\n",
    "import scipy as sp\n",
    "from scipy import stats\n",
    "from scipy.stats import skew\n",
    "from sklearn import preprocessing\n",
    "from sklearn.linear_model import LassoCV, RidgeCV, ElasticNetCV\n",
    "from sklearn.preprocessing import StandardScaler, RobustScaler\n",
    "from sklearn.model_selection import train_test_split, cross_val_score, GridSearchCV\n",
    "from sklearn import metrics\n",
    "from xgboost import XGBRegressor"
   ]
  },
  {
   "cell_type": "markdown",
   "metadata": {},
   "source": [
    "# Read Testing and Training Data"
   ]
  },
  {
   "cell_type": "code",
   "execution_count": 185,
   "metadata": {},
   "outputs": [],
   "source": [
    "housing = pd.read_csv(\"/Users/christopherkim/Desktop/Housing Price Machine Learning/house-prices-advanced-regression-techniques/train.csv\")\n",
    "housingTest= pd.read_csv(\"/Users/christopherkim/Desktop/Housing Price Machine Learning/house-prices-advanced-regression-techniques/test.csv\")\n",
    "housingTestID= pd.read_csv(\"/Users/christopherkim/Desktop/Housing Price Machine Learning/house-prices-advanced-regression-techniques/test.csv\")"
   ]
  },
  {
   "cell_type": "markdown",
   "metadata": {},
   "source": [
    "# Preprocessing/Data Cleaning Training Data"
   ]
  },
  {
   "cell_type": "code",
   "execution_count": 186,
   "metadata": {},
   "outputs": [],
   "source": [
    "housing[\"Electrical\"] = housing[\"Electrical\"].fillna(\"SBrkr\")\n",
    "housing = housing.apply(lambda x: x.fillna(0) if x.dtype.kind in 'biufc' else x.fillna(\"NA\"))\n",
    "\n",
    "housing.at[946, \"BsmtExposure\"]=\"No\"\n",
    "housing.at[332,\"BsmtFinType2\"]=\"Unf\"\n",
    "\n",
    "housing[\"Remod_Yes\"] = np.where(housing[\"YearBuilt\"]==housing[\"YearRemodAdd\"], 1, 0)\n",
    "housing[\"House_Age\"] = 2010 - housing[\"YearBuilt\"]\n",
    "housing[\"TotalSF\"] = housing[\"GrLivArea\"] + housing[\"TotalBsmtSF\"]\n",
    "housing[\"Bsmt_Yes\"] = np.where(housing[\"TotalBsmtSF\"]>0,1,0)\n",
    "housing[\"2ndFl_Yes\"] = np.where(housing[\"2ndFlrSF\"]>0,1,0)\n",
    "housing[\"Garage_Yes\"] = np.where(housing[\"GarageArea\"]>0,1,0)\n",
    "housing[\"TotalPorchSF\"] = housing[\"OpenPorchSF\"]+housing[\"EnclosedPorch\"]+housing[\"3SsnPorch\"]+housing[\"ScreenPorch\"]\n",
    "housing[\"Porch_Yes\"] = np.where(housing[\"TotalPorchSF\"]>0,1,0)\n",
    "housing[\"Deck_Yes\"] = np.where(housing[\"WoodDeckSF\"]>0,1,0)\n",
    "\n",
    "housing[\"Baths_Total\"] = housing[\"BsmtFullBath\"] + (0.5*housing[\"BsmtHalfBath\"]) + housing[\"FullBath\"] + (0.5*housing[\"HalfBath\"])\n",
    "\n",
    "\n",
    "housing = housing.drop([523, 691, 1182, 1298]).reset_index(drop=True)\n",
    "housing = housing.drop(columns=[\"Id\"])"
   ]
  },
  {
   "cell_type": "code",
   "execution_count": 187,
   "metadata": {},
   "outputs": [],
   "source": [
    "housingOrdinal = pd.DataFrame(housing[[\n",
    "    \"OverallQual\", \"OverallCond\", \"ExterQual\",\"ExterCond\", \"BsmtQual\",\n",
    "    \"BsmtCond\", \"BsmtExposure\", \"BsmtFinType1\",\"BsmtFinType2\", \n",
    "    \"HeatingQC\", \"KitchenQual\", \"FireplaceQu\", \"GarageFinish\", \n",
    "    \"GarageQual\", \"GarageCond\", \"PoolQC\", \"Fence\", \n",
    "    \"Electrical\", \"Functional\", \"LandSlope\", \"PavedDrive\",\n",
    "    \"LotShape\", \"LandContour\"]].copy())\n",
    "\n",
    "housingNominal = pd.DataFrame(housing[\n",
    "    [\"MSSubClass\",\"MSZoning\",\"Street\",\"Alley\",\"Utilities\",\"LotConfig\",\n",
    "     \"Neighborhood\",\"Condition1\",\"Condition2\",\"BldgType\",\"HouseStyle\",\n",
    "     \"RoofStyle\",\"RoofMatl\",\"Exterior1st\",\"Exterior2nd\",\"MasVnrType\",\n",
    "     \"Foundation\",\"Heating\",\"CentralAir\",\"GarageType\",\"MiscFeature\",\n",
    "     \"SaleType\",\"SaleCondition\"]].copy())\n",
    "\n",
    "housingContinuous = housing[[\"LotFrontage\", \"LotArea\", \"MasVnrArea\", \"BsmtFinSF1\", \"BsmtFinSF2\",\n",
    "                             \"BsmtUnfSF\", \"LowQualFinSF\", \"TotalPorchSF\",\n",
    "                             \"GarageArea\", \"WoodDeckSF\",\"PoolArea\", \"MiscVal\", \"SalePrice\",\n",
    "                             \"TotalSF\", \"GrLivArea\", \"1stFlrSF\", \"2ndFlrSF\",\n",
    "                             \"OpenPorchSF\", \"EnclosedPorch\", \"3SsnPorch\",\n",
    "                             \"ScreenPorch\", \"TotalBsmtSF\"]].copy()\n",
    "\n",
    "housingDiscrete = housing.drop(columns=[\n",
    "    \"LotFrontage\", \"LotArea\", \"MasVnrArea\", \"BsmtFinSF1\", \"BsmtFinSF2\",\"BsmtUnfSF\", \n",
    "    \"LowQualFinSF\", \"GarageArea\", \"WoodDeckSF\", \"PoolArea\", \"MiscVal\", \"SalePrice\", \"OverallQual\", \n",
    "    \"OverallCond\", \"ExterQual\",\"ExterCond\", \"BsmtQual\",\"BsmtCond\", \"BsmtExposure\", \"BsmtFinType1\",\n",
    "    \"BsmtFinType2\", \"HeatingQC\", \"KitchenQual\", \"FireplaceQu\", \"GarageFinish\", \"GarageQual\", \n",
    "    \"GarageCond\", \"PoolQC\", \"Fence\", \"Electrical\", \"Functional\", \"LandSlope\", \"PavedDrive\",\"LotShape\", \n",
    "    \"LandContour\",\"MSSubClass\",\"MSZoning\",\"Street\",\"Alley\",\"Utilities\",\"LotConfig\",\"Neighborhood\",\n",
    "    \"Condition1\",\"Condition2\",\"BldgType\",\"HouseStyle\",\"RoofStyle\",\"RoofMatl\",\"Exterior1st\",\"Exterior2nd\",\n",
    "    \"MasVnrType\",\"Foundation\",\"Heating\",\"CentralAir\",\"GarageType\",\"MiscFeature\",\"SaleType\",\"SaleCondition\", \n",
    "    \"TotalSF\", \"Remod_Yes\", \"Bsmt_Yes\", \"2ndFl_Yes\", \"Porch_Yes\", \"Deck_Yes\", \"Garage_Yes\", \"TotalPorchSF\",\n",
    "    \"GrLivArea\", \"1stFlrSF\", \"2ndFlrSF\",\"OpenPorchSF\", \"EnclosedPorch\", \"3SsnPorch\",\n",
    "    \"ScreenPorch\", \"TotalBsmtSF\"]).copy()\n",
    "\n",
    "housingBinary = housing[[\"Remod_Yes\", \"Bsmt_Yes\", \"2ndFl_Yes\",\"Porch_Yes\", \"Deck_Yes\", \"Garage_Yes\"]].copy()"
   ]
  },
  {
   "cell_type": "code",
   "execution_count": 188,
   "metadata": {},
   "outputs": [],
   "source": [
    "housingNominal[\"MSSubClass\"]=housingNominal[\"MSSubClass\"].astype(\"object\")\n",
    "dummy = pd.get_dummies(housingNominal).copy()\n",
    "housingOrdinal = housingOrdinal.apply(preprocessing.LabelEncoder().fit_transform)"
   ]
  },
  {
   "cell_type": "code",
   "execution_count": 189,
   "metadata": {},
   "outputs": [],
   "source": [
    "skewed_var = housingContinuous.apply(lambda x: skew(x))\n",
    "skewed_var = skewed_var[abs(skewed_var)>0.5]\n",
    "skewed_var = skewed_var.index\n",
    "housingContinuous[skewed_var] = np.log1p(housingContinuous[skewed_var])"
   ]
  },
  {
   "cell_type": "code",
   "execution_count": 190,
   "metadata": {},
   "outputs": [],
   "source": [
    "housing1 = pd.concat([housingContinuous, housingDiscrete, housingOrdinal, housingBinary, dummy], axis=1).copy()"
   ]
  },
  {
   "cell_type": "code",
   "execution_count": 191,
   "metadata": {},
   "outputs": [],
   "source": [
    "Y = pd.DataFrame(housing1[\"SalePrice\"]).copy()\n",
    "X = housing1.drop(columns=[\"SalePrice\"]).copy()"
   ]
  },
  {
   "cell_type": "markdown",
   "metadata": {},
   "source": [
    "# Preprocessing/cleaning Data Set"
   ]
  },
  {
   "cell_type": "code",
   "execution_count": 192,
   "metadata": {},
   "outputs": [],
   "source": [
    "imputeNA = [\"PoolQC\",\"MiscFeature\",\"Alley\",\"Fence\",\"FireplaceQu\"]\n",
    "housingTest[imputeNA] = housingTest[imputeNA].fillna(\"NA\")"
   ]
  },
  {
   "cell_type": "code",
   "execution_count": 193,
   "metadata": {},
   "outputs": [],
   "source": [
    "housingTest[\"TotalBsmtSF\"] = housingTest[\"TotalBsmtSF\"].fillna(0)\n",
    "housingTest.at[660, [\"BsmtFinSF1\",\"BsmtFinSF2\",\"BsmtUnfSF\"]]= 0\n",
    "basements = [\"TotalBsmtSF\",\"BsmtUnfSF\", \"BsmtFinSF2\", \"BsmtFinSF1\",\"BsmtCond\",\"BsmtQual\",\"BsmtExposure\",\"BsmtFinType1\",\"BsmtFinType2\"]\n",
    "nobasements = 0\n",
    "indices= housingTest[\"TotalBsmtSF\"] == nobasements\n",
    "housingTest.loc[indices,basements] = housingTest.loc[indices,basements].fillna(\"NA\")"
   ]
  },
  {
   "cell_type": "code",
   "execution_count": 194,
   "metadata": {},
   "outputs": [],
   "source": [
    "garagesInt = [\"GarageCars\", \"GarageArea\",\"GarageYrBlt\"]\n",
    "garagesOrd = [\"GarageType\",\"GarageFinish\",\"GarageQual\",\"GarageCond\"]\n",
    "nogarages = 0\n",
    "indices= housingTest[\"GarageArea\"] == nogarages\n",
    "housingTest.loc[indices,garagesInt] = housingTest.loc[indices,garagesInt].fillna(0)\n",
    "housingTest.loc[indices,garagesOrd] = housingTest.loc[indices,garagesOrd].fillna(\"NA\")"
   ]
  },
  {
   "cell_type": "code",
   "execution_count": 195,
   "metadata": {},
   "outputs": [],
   "source": [
    "housingTest.at[[455,756,790], \"MSZoning\"]=\"RM\"\n",
    "housingTest.at[1444, \"MSZoning\"]=\"RL\"\n",
    "housingTest.BsmtFullBath = housingTest.BsmtFullBath.fillna(0)\n",
    "housingTest.BsmtHalfBath = housingTest.BsmtHalfBath.fillna(0)\n",
    "housingTest.at[[666,1116], \"GarageYrBlt\"]=1978"
   ]
  },
  {
   "cell_type": "code",
   "execution_count": 196,
   "metadata": {},
   "outputs": [],
   "source": [
    "housingTest.GarageArea = housingTest.GarageArea.fillna(473)\n",
    "housingTest.GarageCars = housingTest.GarageCars.fillna(2)\n",
    "housingTest.LotFrontage = housingTest.LotFrontage.fillna(housingTest.LotFrontage.mean())"
   ]
  },
  {
   "cell_type": "code",
   "execution_count": 197,
   "metadata": {},
   "outputs": [],
   "source": [
    "housingTest = housingTest.apply(lambda x:x.fillna(x.value_counts().index[0]))"
   ]
  },
  {
   "cell_type": "code",
   "execution_count": 198,
   "metadata": {},
   "outputs": [],
   "source": [
    "housingTest[\"Remod_Yes\"] = np.where(housingTest[\"YearBuilt\"]==housingTest[\"YearRemodAdd\"], 1, 0)\n",
    "housingTest[\"House_Age\"] = 2010 - housingTest[\"YearBuilt\"]\n",
    "housingTest[\"TotalSF\"] = housingTest[\"GrLivArea\"] + housingTest[\"TotalBsmtSF\"]\n",
    "housingTest[\"Bsmt_Yes\"] = np.where(housingTest[\"TotalBsmtSF\"]>0,1,0)\n",
    "housingTest[\"2ndFl_Yes\"] = np.where(housingTest[\"2ndFlrSF\"]>0,1,0)\n",
    "housingTest[\"Garage_Yes\"] = np.where(housingTest[\"GarageArea\"]>0,1,0)\n",
    "housingTest[\"TotalPorchSF\"] = housingTest[\"OpenPorchSF\"]+housingTest[\"EnclosedPorch\"]+housingTest[\"3SsnPorch\"]+housingTest[\"ScreenPorch\"]\n",
    "housingTest[\"Porch_Yes\"] = np.where(housingTest[\"TotalPorchSF\"]>0,1,0)\n",
    "housingTest[\"Deck_Yes\"] = np.where(housingTest[\"WoodDeckSF\"]>0,1,0)\n",
    "\n",
    "housingTest[\"Baths_Total\"] = housingTest[\"BsmtFullBath\"] + (0.5*housingTest[\"BsmtHalfBath\"]) + housingTest[\"FullBath\"] + (0.5*housingTest[\"HalfBath\"])\n",
    "\n",
    "housingTest = housingTest.drop(columns=[\"Id\"])"
   ]
  },
  {
   "cell_type": "code",
   "execution_count": 199,
   "metadata": {},
   "outputs": [],
   "source": [
    "housingOrdinalTest = pd.DataFrame(housingTest[[\n",
    "    \"OverallQual\", \"OverallCond\", \"ExterQual\",\"ExterCond\", \"BsmtQual\",\n",
    "    \"BsmtCond\", \"BsmtExposure\", \"BsmtFinType1\",\"BsmtFinType2\", \n",
    "    \"HeatingQC\", \"KitchenQual\", \"FireplaceQu\", \"GarageFinish\", \n",
    "    \"GarageQual\", \"GarageCond\", \"PoolQC\", \"Fence\", \n",
    "    \"Electrical\", \"Functional\", \"LandSlope\", \"PavedDrive\",\n",
    "    \"LotShape\", \"LandContour\"]].copy())\n",
    "\n",
    "housingNominalTest = pd.DataFrame(housingTest[\n",
    "    [\"MSSubClass\",\"MSZoning\",\"Street\",\"Alley\",\"Utilities\",\"LotConfig\",\n",
    "     \"Neighborhood\",\"Condition1\",\"Condition2\",\"BldgType\",\"HouseStyle\",\n",
    "     \"RoofStyle\",\"RoofMatl\",\"Exterior1st\",\"Exterior2nd\",\"MasVnrType\",\n",
    "     \"Foundation\",\"Heating\",\"CentralAir\",\"GarageType\",\"MiscFeature\",\n",
    "     \"SaleType\",\"SaleCondition\"]].copy())\n",
    "\n",
    "housingContinuousTest = housingTest[[\"LotFrontage\", \"LotArea\", \"MasVnrArea\", \"BsmtFinSF1\", \"BsmtFinSF2\",\n",
    "                             \"BsmtUnfSF\", \"LowQualFinSF\", \"TotalPorchSF\",\n",
    "                             \"GarageArea\", \"WoodDeckSF\",\"PoolArea\", \"MiscVal\",\n",
    "                             \"TotalSF\", \"GrLivArea\", \"1stFlrSF\", \"2ndFlrSF\",\n",
    "                             \"OpenPorchSF\", \"EnclosedPorch\", \"3SsnPorch\",\n",
    "                             \"ScreenPorch\", \"TotalBsmtSF\"]].copy()\n",
    "\n",
    "housingDiscreteTest = housingTest.drop(columns=[\n",
    "    \"LotFrontage\", \"LotArea\", \"MasVnrArea\", \"BsmtFinSF1\", \"BsmtFinSF2\",\"BsmtUnfSF\", \n",
    "    \"LowQualFinSF\", \"GarageArea\", \"WoodDeckSF\", \"PoolArea\", \"MiscVal\", \"OverallQual\", \n",
    "    \"OverallCond\", \"ExterQual\",\"ExterCond\", \"BsmtQual\",\"BsmtCond\", \"BsmtExposure\", \"BsmtFinType1\",\n",
    "    \"BsmtFinType2\", \"HeatingQC\", \"KitchenQual\", \"FireplaceQu\", \"GarageFinish\", \"GarageQual\", \n",
    "    \"GarageCond\", \"PoolQC\", \"Fence\", \"Electrical\", \"Functional\", \"LandSlope\", \"PavedDrive\",\"LotShape\", \n",
    "    \"LandContour\",\"MSSubClass\",\"MSZoning\",\"Street\",\"Alley\",\"Utilities\",\"LotConfig\",\"Neighborhood\",\n",
    "    \"Condition1\",\"Condition2\",\"BldgType\",\"HouseStyle\",\"RoofStyle\",\"RoofMatl\",\"Exterior1st\",\"Exterior2nd\",\n",
    "    \"MasVnrType\",\"Foundation\",\"Heating\",\"CentralAir\",\"GarageType\",\"MiscFeature\",\"SaleType\",\"SaleCondition\", \n",
    "    \"TotalSF\", \"Remod_Yes\", \"Bsmt_Yes\", \"2ndFl_Yes\", \"Porch_Yes\", \"Deck_Yes\", \"Garage_Yes\", \"TotalPorchSF\",\n",
    "    \"GrLivArea\", \"1stFlrSF\", \"2ndFlrSF\",\"OpenPorchSF\", \"EnclosedPorch\", \"3SsnPorch\",\n",
    "    \"ScreenPorch\", \"TotalBsmtSF\"]).copy()\n",
    "\n",
    "housingBinaryTest = housingTest[[\"Remod_Yes\", \"Bsmt_Yes\", \"2ndFl_Yes\",\"Porch_Yes\", \"Deck_Yes\", \"Garage_Yes\"]].copy()"
   ]
  },
  {
   "cell_type": "code",
   "execution_count": 200,
   "metadata": {},
   "outputs": [],
   "source": [
    "housingNominalTest[\"MSSubClass\"]=housingNominalTest[\"MSSubClass\"].astype(\"object\")\n",
    "dummyTest = pd.get_dummies(housingNominalTest).copy()\n",
    "housingOrdinalTest = housingOrdinalTest.apply(preprocessing.LabelEncoder().fit_transform)"
   ]
  },
  {
   "cell_type": "code",
   "execution_count": 201,
   "metadata": {},
   "outputs": [],
   "source": [
    "skewed_varT = housingContinuousTest.apply(lambda x: skew(x))\n",
    "skewed_varT = skewed_varT[abs(skewed_varT)>0.5]\n",
    "skewed_varT = skewed_varT.index\n",
    "housingContinuousTest[skewed_varT] = np.log1p(housingContinuousTest[skewed_varT])"
   ]
  },
  {
   "cell_type": "code",
   "execution_count": 202,
   "metadata": {},
   "outputs": [],
   "source": [
    "Test_X = pd.concat([housingContinuousTest, housingDiscreteTest, housingOrdinalTest, housingBinaryTest, dummyTest], axis=1).copy()"
   ]
  },
  {
   "cell_type": "code",
   "execution_count": 208,
   "metadata": {},
   "outputs": [],
   "source": [
    "Test_X = Test_X.align(X, axis=1)[0].fillna(0)\n",
    "X = X.align(Test_X, axis=1)[0].fillna(0)"
   ]
  },
  {
   "cell_type": "markdown",
   "metadata": {},
   "source": [
    "# Training Lasso Model "
   ]
  },
  {
   "cell_type": "code",
   "execution_count": 209,
   "metadata": {},
   "outputs": [],
   "source": [
    "scaler = StandardScaler()\n",
    "X1 = scaler.fit_transform(X).copy()"
   ]
  },
  {
   "cell_type": "code",
   "execution_count": 210,
   "metadata": {},
   "outputs": [
    {
     "name": "stdout",
     "output_type": "stream",
     "text": [
      "RMSE from 10 Folds:  [0.10675396 0.0910505  0.10535142 0.11933677 0.14363219 0.09878774\n",
      " 0.11854999 0.1000029  0.092194   0.12022792] \n",
      "RMSE mean:  0.10958873801016504\n"
     ]
    }
   ],
   "source": [
    "lassoNCV = LassoCV(alphas=None, cv=10, max_iter=10000).fit(X1, Y.values.ravel())\n",
    "scoreLCV = np.sqrt(-cross_val_score(lassoNCV, X1, Y.values.ravel(), scoring='neg_mean_squared_error', cv=10))\n",
    "\n",
    "print(\"RMSE from 10 Folds: \",scoreLCV,\"\\nRMSE mean: \",scoreLCV.mean())"
   ]
  },
  {
   "cell_type": "code",
   "execution_count": 211,
   "metadata": {},
   "outputs": [
    {
     "data": {
      "text/plain": [
       "0.0028212135387946985"
      ]
     },
     "execution_count": 211,
     "metadata": {},
     "output_type": "execute_result"
    }
   ],
   "source": [
    "lassoNCV.alpha_"
   ]
  },
  {
   "cell_type": "code",
   "execution_count": 212,
   "metadata": {},
   "outputs": [],
   "source": [
    "lassoCoef = pd.Series(lassoNCV.coef_, index=X.columns)\n",
    "featLasso = lassoCoef[lassoCoef!=0].index"
   ]
  },
  {
   "cell_type": "code",
   "execution_count": 214,
   "metadata": {},
   "outputs": [],
   "source": [
    "X2 = X[featLasso].copy()\n",
    "X2 = scaler.fit_transform(X2)"
   ]
  },
  {
   "cell_type": "code",
   "execution_count": 215,
   "metadata": {},
   "outputs": [
    {
     "name": "stdout",
     "output_type": "stream",
     "text": [
      "RMSE from 10 Folds:  [0.1031369  0.09205337 0.10129594 0.11751705 0.13837933 0.09701912\n",
      " 0.11666029 0.0990787  0.08926642 0.11823225] \n",
      "RMSE mean:  0.10726393650127071\n"
     ]
    }
   ],
   "source": [
    "lassoNCV1 = LassoCV(alphas=None, cv=10, max_iter=10000).fit(X2, Y.values.ravel())\n",
    "scoreLCV1 = np.sqrt(-cross_val_score(lassoNCV1, X2, Y.values.ravel(), scoring='neg_mean_squared_error', cv=10))\n",
    "\n",
    "print(\"RMSE from 10 Folds: \",scoreLCV1,\"\\nRMSE mean: \",scoreLCV1.mean())"
   ]
  },
  {
   "cell_type": "code",
   "execution_count": 216,
   "metadata": {},
   "outputs": [
    {
     "data": {
      "text/plain": [
       "0.0006517369186246348"
      ]
     },
     "execution_count": 216,
     "metadata": {},
     "output_type": "execute_result"
    }
   ],
   "source": [
    "lassoNCV1.alpha_"
   ]
  },
  {
   "cell_type": "code",
   "execution_count": 217,
   "metadata": {},
   "outputs": [],
   "source": [
    "lassoCoef1 = pd.Series(lassoNCV1.coef_, index=featLasso)\n",
    "featLasso1 = lassoCoef1[lassoCoef1!=0].index"
   ]
  },
  {
   "cell_type": "markdown",
   "metadata": {},
   "source": [
    "# Predicting with Lasso Model"
   ]
  },
  {
   "cell_type": "code",
   "execution_count": 218,
   "metadata": {},
   "outputs": [],
   "source": [
    "X3 = Test_X[featLasso].copy()"
   ]
  },
  {
   "cell_type": "code",
   "execution_count": 219,
   "metadata": {},
   "outputs": [],
   "source": [
    "X3 = scaler.transform(X3)"
   ]
  },
  {
   "cell_type": "code",
   "execution_count": 220,
   "metadata": {},
   "outputs": [],
   "source": [
    "predicted_pricesLasso = lassoNCV1.predict(X3)"
   ]
  },
  {
   "cell_type": "markdown",
   "metadata": {},
   "source": [
    "# Training the Ridge Model"
   ]
  },
  {
   "cell_type": "code",
   "execution_count": 223,
   "metadata": {},
   "outputs": [
    {
     "name": "stdout",
     "output_type": "stream",
     "text": [
      "RMSE from 10 Folds:  [0.10451606 0.09227485 0.09698209 0.11800139 0.13530308 0.09526915\n",
      " 0.11160016 0.09506654 0.08850884 0.11516252] \n",
      "RMSE mean:  0.10526846807183762\n"
     ]
    }
   ],
   "source": [
    "rscaler = RobustScaler()\n",
    "\n",
    "X4 = rscaler.fit_transform(X[featLasso]).copy()\n",
    "\n",
    "ridgeRNCV = RidgeCV(alphas=alphas, cv=10, scoring=\"neg_mean_squared_error\").fit(X4, Y)\n",
    "scoreRRCV = np.sqrt(-cross_val_score(ridgeRNCV, X4, Y, scoring='neg_mean_squared_error', cv=10))\n",
    "\n",
    "print(\"RMSE from 10 Folds: \",scoreRRCV,\"\\nRMSE mean: \",scoreRRCV.mean())"
   ]
  },
  {
   "cell_type": "markdown",
   "metadata": {},
   "source": [
    "# Predicting with Ridge Model"
   ]
  },
  {
   "cell_type": "code",
   "execution_count": 226,
   "metadata": {},
   "outputs": [],
   "source": [
    "X5 = rscaler.transform(Test_X[featLasso]).copy()\n",
    "predicted_pricesRidge = ridgeRNCV.predict(X5)"
   ]
  },
  {
   "cell_type": "markdown",
   "metadata": {},
   "source": [
    "# Training the ElasticNet Model "
   ]
  },
  {
   "cell_type": "code",
   "execution_count": 225,
   "metadata": {},
   "outputs": [
    {
     "name": "stdout",
     "output_type": "stream",
     "text": [
      "RMSE from 10 Folds:  [0.09940281 0.09251575 0.10264105 0.11851769 0.13599476 0.09449991\n",
      " 0.11520254 0.10014577 0.08956788 0.11769558] \n",
      "RMSE mean:  0.10661837358805966\n"
     ]
    }
   ],
   "source": [
    "enetFNCV = ElasticNetCV(l1_ratio= np.linspace(0.01,1),alphas=None, cv=10).fit(X2, Y.values.ravel())\n",
    "scoreFECV = np.sqrt(-cross_val_score(enetFNCV, X2, Y.values.ravel(), scoring='neg_mean_squared_error', cv=10))\n",
    "\n",
    "print(\"RMSE from 10 Folds: \",scoreFECV,\"\\nRMSE mean: \",scoreFECV.mean())"
   ]
  },
  {
   "cell_type": "markdown",
   "metadata": {},
   "source": [
    "# Predicting with ElasticNet Model"
   ]
  },
  {
   "cell_type": "code",
   "execution_count": 227,
   "metadata": {},
   "outputs": [
    {
     "name": "stdout",
     "output_type": "stream",
     "text": [
      "RMSE from 10 Folds:  [0.10603704 0.09170937 0.09843715 0.11762266 0.13873392 0.09693277\n",
      " 0.11271751 0.09523255 0.09068335 0.11689965] \n",
      "RMSE mean:  0.10650059621313386\n"
     ]
    }
   ],
   "source": [
    "enetFNCV1 = ElasticNetCV(l1_ratio= np.linspace(0.01,1),alphas=None, cv=10).fit(X4, Y.values.ravel())\n",
    "scoreFECV1 = np.sqrt(-cross_val_score(enetFNCV1, X4, Y.values.ravel(), scoring='neg_mean_squared_error', cv=10))\n",
    "\n",
    "print(\"RMSE from 10 Folds: \",scoreFECV1,\"\\nRMSE mean: \",scoreFECV1.mean())"
   ]
  },
  {
   "cell_type": "code",
   "execution_count": 228,
   "metadata": {},
   "outputs": [],
   "source": [
    "predicted_pricesENet = enetFNCV1.predict(X5)"
   ]
  },
  {
   "cell_type": "markdown",
   "metadata": {},
   "source": [
    "# Training the XGBoost model"
   ]
  },
  {
   "cell_type": "code",
   "execution_count": 278,
   "metadata": {},
   "outputs": [
    {
     "name": "stdout",
     "output_type": "stream",
     "text": [
      "[17:08:11] WARNING: src/objective/regression_obj.cu:152: reg:linear is now deprecated in favor of reg:squarederror.\n"
     ]
    },
    {
     "data": {
      "text/plain": [
       "XGBRegressor(base_score=0.5, booster='gbtree', colsample_bylevel=1,\n",
       "             colsample_bynode=1, colsample_bytree=1, gamma=0,\n",
       "             importance_type='gain', learning_rate=0.07, max_delta_step=0,\n",
       "             max_depth=2, min_child_weight=7, missing=None, n_estimators=500,\n",
       "             n_jobs=1, nthread=None, objective='reg:linear', random_state=0,\n",
       "             reg_alpha=0.0009, reg_lambda=1, scale_pos_weight=1, seed=None,\n",
       "             silent=None, subsample=1, verbosity=1)"
      ]
     },
     "execution_count": 278,
     "metadata": {},
     "output_type": "execute_result"
    }
   ],
   "source": [
    "xgbModel = XGBRegressor(\n",
    "    learning_rate=0.07,\n",
    "    n_estimators=500,\n",
    "    max_depth=2,\n",
    "    min_child_weight=7,\n",
    "    gamma=0,\n",
    "    subsample=1,\n",
    "    colsample_bytree=1,\n",
    "    colsample_bylevel=1,\n",
    "    colsample_bynode=1,\n",
    "    reg_lambda=1,\n",
    "    reg_alpha=0.0009\n",
    ")\n",
    "xgbModel.fit(X6, Y)"
   ]
  },
  {
   "cell_type": "markdown",
   "metadata": {},
   "source": [
    "# Predicting with XGBoost Model"
   ]
  },
  {
   "cell_type": "code",
   "execution_count": 279,
   "metadata": {},
   "outputs": [],
   "source": [
    "predicted_pricesXGB = xgbModel.predict(Test_X[featLasso])"
   ]
  },
  {
   "cell_type": "markdown",
   "metadata": {},
   "source": [
    "# Final Predictions"
   ]
  },
  {
   "cell_type": "code",
   "execution_count": 286,
   "metadata": {},
   "outputs": [],
   "source": [
    "predictionsMean = np.mean([predicted_pricesXGB, predicted_pricesENet, predicted_pricesLasso, predicted_pricesRidge.flatten()], axis=0)"
   ]
  },
  {
   "cell_type": "code",
   "execution_count": 316,
   "metadata": {},
   "outputs": [],
   "source": [
    "my_submission = pd.DataFrame({\"Id\": housingTestID.Id, \"SalePrice\": np.exp(predictionsMean)})"
   ]
  },
  {
   "cell_type": "code",
   "execution_count": 317,
   "metadata": {},
   "outputs": [],
   "source": [
    "my_submission.to_csv(\"submission.csv\", index=False)"
   ]
  }
 ],
 "metadata": {
  "kernelspec": {
   "display_name": "Python 3",
   "language": "python",
   "name": "python3"
  },
  "language_info": {
   "codemirror_mode": {
    "name": "ipython",
    "version": 3
   },
   "file_extension": ".py",
   "mimetype": "text/x-python",
   "name": "python",
   "nbconvert_exporter": "python",
   "pygments_lexer": "ipython3",
   "version": "3.7.3"
  }
 },
 "nbformat": 4,
 "nbformat_minor": 2
}
